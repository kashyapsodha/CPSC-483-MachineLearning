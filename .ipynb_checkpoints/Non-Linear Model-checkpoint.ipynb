{
 "cells": [
  {
   "cell_type": "markdown",
   "metadata": {},
   "source": [
    "# Non Linear Model "
   ]
  },
  {
   "cell_type": "code",
   "execution_count": 79,
   "metadata": {
    "collapsed": true
   },
   "outputs": [],
   "source": [
    "import pandas as pd #Pands is the library for loading and working with datafiles.\n",
    "import numpy as np # To perform matrix operations\n",
    "import sys\n",
    "import matplotlib.pyplot as plt # for ploting data\n",
    "import seaborn as sns # for ploting data with various flexible functions/ uses matplotlib at back\n",
    "plt.rcParams[\"figure.figsize\"] = (12,12)\n",
    "\n",
    "%matplotlib inline"
   ]
  },
  {
   "cell_type": "code",
   "execution_count": 80,
   "metadata": {
    "collapsed": true
   },
   "outputs": [],
   "source": [
    "filename = 'Dataset.csv'"
   ]
  },
  {
   "cell_type": "code",
   "execution_count": 81,
   "metadata": {
    "collapsed": true
   },
   "outputs": [],
   "source": [
    "data = pd.read_csv(filename)"
   ]
  },
  {
   "cell_type": "code",
   "execution_count": 82,
   "metadata": {},
   "outputs": [],
   "source": [
    "x = data.iloc[:,0:-1]\n",
    "y = data.iloc[:,-1]"
   ]
  },
  {
   "cell_type": "code",
   "execution_count": 83,
   "metadata": {},
   "outputs": [],
   "source": [
    "x = np.asarray(x)"
   ]
  },
  {
   "cell_type": "code",
   "execution_count": 84,
   "metadata": {},
   "outputs": [
    {
     "data": {
      "text/plain": [
       "array([[-2.00000000e+01,  5.00000000e+02,  2.73680000e-02,\n",
       "         3.50861031e+02],\n",
       "       [-2.00000000e+01,  5.00000000e+02,  2.70229000e-02,\n",
       "         3.43897695e+02],\n",
       "       [-2.00000000e+01,  5.00000000e+02,  2.66779000e-02,\n",
       "         3.36475830e+02],\n",
       "       ...,\n",
       "       [ 8.00000000e+01,  3.00000000e+03,  3.67391000e-02,\n",
       "         4.28210342e+02],\n",
       "       [ 8.00000000e+01,  3.00000000e+03,  3.60518000e-02,\n",
       "         4.20374218e+02],\n",
       "       [ 8.00000000e+01,  3.00000000e+03,  3.53645000e-02,\n",
       "         4.12955515e+02]])"
      ]
     },
     "execution_count": 84,
     "metadata": {},
     "output_type": "execute_result"
    }
   ],
   "source": [
    "x"
   ]
  },
  {
   "cell_type": "code",
   "execution_count": 85,
   "metadata": {},
   "outputs": [],
   "source": [
    "y = np.asarray(y)"
   ]
  },
  {
   "cell_type": "code",
   "execution_count": 86,
   "metadata": {},
   "outputs": [
    {
     "data": {
      "text/plain": [
       "array([54.90323934, 52.15534246, 49.53320114, ..., 31.39009956,\n",
       "       29.11489998, 26.93016717])"
      ]
     },
     "execution_count": 86,
     "metadata": {},
     "output_type": "execute_result"
    }
   ],
   "source": [
    "y"
   ]
  },
  {
   "cell_type": "code",
   "execution_count": 87,
   "metadata": {},
   "outputs": [
    {
     "data": {
      "text/plain": [
       "array([[ 6.00000000e+01,  2.00000000e+03,  3.36615000e-02,\n",
       "         3.75397143e+02],\n",
       "       [ 4.00000000e+01,  1.50000000e+03,  3.29245000e-02,\n",
       "         3.72051454e+02],\n",
       "       [-2.00000000e+01,  5.00000000e+02,  2.52976000e-02,\n",
       "         3.13597383e+02],\n",
       "       ...,\n",
       "       [ 0.00000000e+00,  3.00000000e+03,  2.61027000e-02,\n",
       "         3.48223691e+02],\n",
       "       [ 2.00000000e+01,  5.00000000e+02,  2.95360000e-02,\n",
       "         3.23172128e+02],\n",
       "       [ 6.00000000e+01,  1.00000000e+03,  3.76541000e-02,\n",
       "         4.19235798e+02]])"
      ]
     },
     "execution_count": 87,
     "metadata": {},
     "output_type": "execute_result"
    }
   ],
   "source": [
    "from sklearn.preprocessing import PolynomialFeatures\n",
    "from sklearn.cross_validation import train_test_split\n",
    "from sklearn.linear_model import LinearRegression\n",
    "\n",
    "X_train, X_test, y_train, y_test = train_test_split(x, y, test_size = 0.20, random_state = 0)\n",
    "\n",
    "X_train"
   ]
  },
  {
   "cell_type": "code",
   "execution_count": 88,
   "metadata": {},
   "outputs": [
    {
     "data": {
      "text/plain": [
       "array([[ 1.00000000e+00,  6.00000000e+01,  2.00000000e+03, ...,\n",
       "         1.13309658e-03,  1.26364309e+01,  1.40923015e+05],\n",
       "       [ 1.00000000e+00,  4.00000000e+01,  1.50000000e+03, ...,\n",
       "         1.08402270e-03,  1.22496081e+01,  1.38422284e+05],\n",
       "       [ 1.00000000e+00, -2.00000000e+01,  5.00000000e+02, ...,\n",
       "         6.39968566e-04,  7.93326117e+00,  9.83433189e+04],\n",
       "       ...,\n",
       "       [ 1.00000000e+00,  0.00000000e+00,  3.00000000e+03, ...,\n",
       "         6.81350947e-04,  9.08957855e+00,  1.21259739e+05],\n",
       "       [ 1.00000000e+00,  2.00000000e+01,  5.00000000e+02, ...,\n",
       "         8.72375296e-04,  9.54521197e+00,  1.04440224e+05],\n",
       "       [ 1.00000000e+00,  6.00000000e+01,  1.00000000e+03, ...,\n",
       "         1.41783125e-03,  1.57859467e+01,  1.75758655e+05]])"
      ]
     },
     "execution_count": 88,
     "metadata": {},
     "output_type": "execute_result"
    }
   ],
   "source": [
    "poly = PolynomialFeatures(degree = 2)\n",
    "X = poly.fit_transform(X_train)\n",
    "X"
   ]
  },
  {
   "cell_type": "code",
   "execution_count": 89,
   "metadata": {},
   "outputs": [],
   "source": [
    "x_test = poly.fit_transform(X_test)"
   ]
  },
  {
   "cell_type": "code",
   "execution_count": 90,
   "metadata": {},
   "outputs": [
    {
     "data": {
      "text/plain": [
       "array([[1.00000000e+00, 3.01450154e+01, 9.08721950e+02],\n",
       "       [1.00000000e+00, 3.81052658e+01, 1.45201128e+03],\n",
       "       [1.00000000e+00, 4.01009472e+01, 1.60808596e+03],\n",
       "       ...,\n",
       "       [1.00000000e+00, 3.08535083e+01, 9.51938974e+02],\n",
       "       [1.00000000e+00, 3.51090968e+01, 1.23264868e+03],\n",
       "       [1.00000000e+00, 4.65085608e+01, 2.16304623e+03]])"
      ]
     },
     "execution_count": 90,
     "metadata": {},
     "output_type": "execute_result"
    }
   ],
   "source": [
    "Y"
   ]
  },
  {
   "cell_type": "code",
   "execution_count": 93,
   "metadata": {},
   "outputs": [
    {
     "data": {
      "text/plain": [
       "(1900, 15)"
      ]
     },
     "execution_count": 93,
     "metadata": {},
     "output_type": "execute_result"
    }
   ],
   "source": [
    "X.shape"
   ]
  },
  {
   "cell_type": "code",
   "execution_count": 95,
   "metadata": {},
   "outputs": [],
   "source": [
    "clf = LinearRegression()\n",
    "clf.fit(X, y_train)\n",
    "preds = clf.predict(x_test)"
   ]
  },
  {
   "cell_type": "code",
   "execution_count": 96,
   "metadata": {},
   "outputs": [
    {
     "data": {
      "text/plain": [
       "array([42.98685077, 39.58375209, 30.87591805, 36.5989112 , 28.51284578,\n",
       "       43.44137516, 32.2059295 , 34.60391572, 38.47151915, 51.38106594,\n",
       "       33.52714613, 46.51425583, 36.50124332, 30.59321392, 47.65042513,\n",
       "       44.15818256, 29.48124932, 36.94432009, 33.34083432, 33.334576  ,\n",
       "       53.67127007, 35.65790106, 37.84274533, 37.5987934 , 39.37678604,\n",
       "       32.2880537 , 31.17347741, 30.51371425, 26.86757522, 29.74311144,\n",
       "       33.90111766, 36.92419593, 41.48589801, 41.13157528, 37.22703888,\n",
       "       32.11473363, 26.99683081, 34.60136476, 36.3216434 , 28.55640031,\n",
       "       45.93055524, 30.02383653, 47.44278061, 27.51023663, 32.07745245,\n",
       "       37.20395459, 42.92524532, 51.60115804, 44.32961812, 43.62648989,\n",
       "       40.6302471 , 29.74147726, 41.76404736, 51.8079975 , 32.03151368,\n",
       "       36.52699844, 27.24354095, 37.19983798, 41.77639794, 29.55038148,\n",
       "       38.76403959, 34.5491255 , 31.21703624, 41.59502617, 41.86863333,\n",
       "       30.01701515, 38.10301212, 46.00237343, 34.65533648, 48.38471232,\n",
       "       29.40386996, 31.60576503, 28.40933054, 31.48176598, 37.94705403,\n",
       "       45.22373553, 35.48962841, 43.55012412, 31.11718287, 32.08724487,\n",
       "       31.45092113, 33.35458415, 33.37995801, 31.06165687, 30.7666574 ,\n",
       "       43.55937944, 40.13637235, 46.07079516, 31.55617531, 34.96790447,\n",
       "       27.51345662, 47.03405222, 39.19700132, 35.68021192, 36.9838527 ,\n",
       "       34.45745562, 46.2582046 , 36.58911701, 34.0305837 , 34.68116307,\n",
       "       35.85988288, 41.08446671, 40.21768269, 35.87587739, 38.95648888,\n",
       "       47.2854919 , 40.48145876, 44.40770163, 28.41414489, 43.4431966 ,\n",
       "       29.51499619, 37.17886258, 33.59397798, 30.03052775, 35.20405796,\n",
       "       26.99940291, 34.61568906, 46.40723813, 54.5220955 , 53.82118486,\n",
       "       40.59483429, 31.59373399, 29.98365172, 28.44794603, 28.4975325 ,\n",
       "       34.16253657, 28.36215653, 44.69485488, 35.04690585, 32.66576232,\n",
       "       34.55979137, 39.22777265, 37.14149159, 46.8511932 , 35.25866327,\n",
       "       35.89991546, 47.57596857, 43.96326914, 26.72718121, 47.34802761,\n",
       "       33.92757767, 54.54042464, 50.66593406, 35.25807258, 39.20707882,\n",
       "       29.98490149, 44.55335598, 42.8360546 , 35.04145439, 28.04598161,\n",
       "       46.56370559, 35.07882687, 44.65092897, 31.93284782, 40.87958353,\n",
       "       32.73591083, 29.56920495, 30.52682037, 51.72649219, 29.60950232,\n",
       "       42.21443138, 44.16928879, 37.87211365, 32.17979086, 34.43796104,\n",
       "       30.5157739 , 54.1233531 , 37.83047857, 37.85041298, 31.7831323 ,\n",
       "       37.25099082, 38.5366496 , 31.32671422, 42.30060984, 41.03715648,\n",
       "       33.38739755, 40.77663359, 46.25390659, 38.42026912, 33.78268323,\n",
       "       44.13990277, 31.8882284 , 30.51649855, 28.01591072, 39.58618214,\n",
       "       27.29052917, 30.56955879, 39.95435753, 34.59017376, 46.18301574,\n",
       "       34.53853097, 26.90163669, 36.84850436, 31.6659419 , 42.38991685,\n",
       "       38.52896797, 31.04492339, 37.5348645 , 39.25527944, 40.77164389,\n",
       "       38.12747868, 31.62619744, 29.50850728, 41.48170482, 31.28563056,\n",
       "       46.06573797, 52.17351318, 32.14063448, 39.53142388, 35.48845427,\n",
       "       33.29789819, 42.3669545 , 33.54553006, 28.98043078, 35.94986171,\n",
       "       37.8460977 , 44.26569071, 29.03445909, 31.75864913, 35.3191445 ,\n",
       "       29.44334417, 45.48008324, 49.20126489, 28.92226273, 26.81278868,\n",
       "       31.52950731, 37.13399957, 31.19819829, 30.9273138 , 39.12884201,\n",
       "       39.69571195, 45.75339418, 36.47486186, 37.08245202, 35.33112935,\n",
       "       40.71822631, 49.49638465, 29.4581304 , 35.70032061, 39.18833923,\n",
       "       46.76713201, 49.68728708, 48.10164898, 36.34248731, 35.3171281 ,\n",
       "       44.24391865, 34.70704605, 38.11886577, 33.8127717 , 33.59332442,\n",
       "       32.98219954, 44.53677398, 27.21479959, 40.65721015, 29.99860714,\n",
       "       31.13097045, 44.4280366 , 40.63391208, 38.78878745, 34.15467437,\n",
       "       32.20351233, 40.44624526, 31.61469022, 50.83308595, 45.61297755,\n",
       "       34.61510044, 51.52292532, 31.54338546, 32.64436761, 28.4570033 ,\n",
       "       28.09824693, 29.43626241, 42.69572182, 36.12070681, 49.0471922 ,\n",
       "       35.92768232, 39.98491846, 51.56351743, 35.66328716, 50.88784123,\n",
       "       30.53507877, 32.8249198 , 41.23427346, 32.69225626, 44.45320453,\n",
       "       28.33391343, 38.4987561 , 31.6056281 , 33.92893825, 29.9575118 ,\n",
       "       49.21769215, 33.34959597, 51.96851283, 37.79615799, 38.54761603,\n",
       "       34.46066557, 53.85219518, 36.98834447, 31.0877058 , 41.32865356,\n",
       "       37.18391383, 38.52512056, 40.40821194, 38.19431816, 41.46004266,\n",
       "       33.20597012, 36.9800821 , 45.43668299, 46.13365992, 36.87961678,\n",
       "       44.5700331 , 37.84541099, 34.91335446, 42.12461864, 37.85397582,\n",
       "       40.36039161, 37.43925377, 36.58315968, 34.13651075, 29.70181867,\n",
       "       39.15465725, 31.90098122, 41.61724396, 39.89468206, 28.92852014,\n",
       "       32.1673082 , 29.47619318, 30.51640448, 44.50388129, 35.93779341,\n",
       "       31.04249538, 36.83996142, 36.59016016, 41.22621794, 51.90478919,\n",
       "       36.72553934, 39.62395725, 36.27828938, 38.83930543, 36.27263556,\n",
       "       35.079427  , 35.69302208, 40.05357482, 37.85966909, 35.87253735,\n",
       "       30.57651071, 33.28207916, 41.95956139, 48.89055259, 39.92430211,\n",
       "       28.88342868, 44.42734792, 35.86236851, 52.20890771, 51.27649475,\n",
       "       42.9466149 , 32.65739829, 28.55506333, 27.86746202, 51.30578815,\n",
       "       31.06770907, 31.64275043, 34.05561476, 41.33413708, 40.95298696,\n",
       "       41.23116106, 48.20180488, 48.96806084, 31.25058799, 28.03066347,\n",
       "       30.04578633, 27.53797572, 44.44394305, 32.11203009, 30.6267806 ,\n",
       "       30.00513365, 36.53740394, 36.18325828, 40.27126839, 31.77236968,\n",
       "       52.40348006, 29.5815162 , 33.25109943, 33.9348131 , 32.76627918,\n",
       "       36.50938952, 48.70537385, 36.05552587, 35.2068442 , 29.00990366,\n",
       "       49.15792648, 44.817504  , 30.07436469, 27.18929856, 31.09251562,\n",
       "       31.46243364, 29.02292827, 48.41670277, 43.74813356, 49.79628614,\n",
       "       32.79647501, 33.70762013, 34.97265668, 36.09832766, 27.88338988,\n",
       "       37.81186343, 28.94621387, 32.70977893, 41.55122312, 27.35013674,\n",
       "       44.9257239 , 47.35666574, 31.36732804, 50.80640466, 37.74895513,\n",
       "       48.15762946, 35.63713813, 44.45310156, 54.51618314, 37.29574142,\n",
       "       33.92359221, 31.5833562 , 34.85494735, 34.53333213, 50.84612969,\n",
       "       43.03268272, 29.51230163, 34.58370422, 37.16052494, 33.12129413,\n",
       "       26.85064981, 39.9129522 , 36.1864494 , 39.29757834, 31.45426809,\n",
       "       32.97673154, 32.39482472, 27.3813252 , 45.99052452, 41.53563703,\n",
       "       36.14046663, 30.50073204, 30.90993573, 51.55358667, 31.09727559,\n",
       "       41.6519036 , 31.58798731, 50.63207359, 27.44560311, 44.45921207,\n",
       "       46.69591388, 35.95436518, 46.80313096, 37.1278517 , 37.52156893,\n",
       "       32.81184583, 32.25458428, 40.74674995, 32.54955987, 33.26697496,\n",
       "       42.77278851, 32.97284486, 32.68694217, 37.57314825, 35.19361326,\n",
       "       39.26085118, 28.39435823, 31.70154366, 39.19054105, 34.0050283 ,\n",
       "       34.06229941, 29.71723789, 32.06068795, 51.04662164, 30.52291269,\n",
       "       36.1228226 ])"
      ]
     },
     "execution_count": 96,
     "metadata": {},
     "output_type": "execute_result"
    }
   ],
   "source": [
    "preds"
   ]
  },
  {
   "cell_type": "code",
   "execution_count": 97,
   "metadata": {
    "collapsed": true
   },
   "outputs": [],
   "source": [
    "def avg_error(y_tes , preds):\n",
    "    error = 0\n",
    "    for i in range(len(y_tes)):\n",
    "        error += np.abs(y_tes[0] - preds[0])\n",
    "    print(error)\n",
    "    return error/len(y_tes)"
   ]
  },
  {
   "cell_type": "code",
   "execution_count": 98,
   "metadata": {},
   "outputs": [
    {
     "name": "stdout",
     "output_type": "stream",
     "text": [
      "84.98575070864325\n",
      "0.17854149308538497\n"
     ]
    }
   ],
   "source": [
    "print(avg_error(y_test,preds))"
   ]
  },
  {
   "cell_type": "code",
   "execution_count": 99,
   "metadata": {},
   "outputs": [
    {
     "data": {
      "text/plain": [
       "array([43.16539226, 39.96186562, 30.86842301, 36.68182385, 28.16697681,\n",
       "       43.26538292, 32.1590653 , 34.65371937, 38.30046484, 51.27861469,\n",
       "       33.65641749, 46.25328312, 36.22740115, 30.79960872, 48.17313623,\n",
       "       43.97118601, 29.67818664, 36.88222601, 33.84564097, 33.4590444 ,\n",
       "       54.88484853, 36.24485684, 37.67095835, 37.85717651, 39.76755152,\n",
       "       31.74027642, 31.6841146 , 30.49921739, 27.10394869, 29.51596438,\n",
       "       33.73962573, 36.75398024, 41.84750547, 41.12613453, 36.76786707,\n",
       "       31.83930355, 27.01937624, 33.92108467, 36.34410192, 28.2552003 ,\n",
       "       45.87062849, 29.91489208, 46.8894824 , 27.46628504, 31.82899076,\n",
       "       36.75601587, 43.03532531, 51.89745292, 44.60285334, 43.51700317,\n",
       "       40.67880935, 29.52556024, 41.7009    , 51.59131909, 32.33464407,\n",
       "       36.47433998, 27.63078444, 37.11985357, 41.56815986, 29.99059394,\n",
       "       39.374933  , 34.89609987, 31.66519073, 41.51405501, 42.16761795,\n",
       "       29.73977831, 38.38750798, 46.01069746, 33.81100835, 48.82480289,\n",
       "       29.37122354, 31.16126631, 28.51397006, 31.74253196, 37.76335962,\n",
       "       45.37173801, 35.18027076, 43.25863235, 31.58407649, 31.82387808,\n",
       "       31.7528004 , 32.82547872, 33.56726551, 31.49373913, 30.53635717,\n",
       "       43.28022461, 40.3451123 , 45.99415896, 31.35501811, 35.29714179,\n",
       "       27.68373246, 47.01686714, 39.53952642, 36.24138702, 36.86922488,\n",
       "       34.35646428, 46.13228175, 36.57744627, 33.75128585, 34.99963704,\n",
       "       35.38081166, 41.12529482, 39.87428304, 35.27198543, 38.96411728,\n",
       "       46.90445062, 40.55008141, 44.59921626, 28.3345349 , 43.47751618,\n",
       "       29.17458534, 37.12642483, 33.22862055, 29.92212315, 35.17621514,\n",
       "       27.23331213, 34.66488703, 46.24572448, 54.10310164, 54.85832553,\n",
       "       40.43865367, 31.46133652, 30.23419342, 28.35926602, 28.36235138,\n",
       "       33.74381029, 28.45118183, 44.61499366, 34.87390869, 32.72781527,\n",
       "       34.3432514 , 39.54164848, 36.87524203, 46.98702274, 35.41945494,\n",
       "       35.62631208, 47.48806965, 43.99154768, 27.18312638, 46.91285056,\n",
       "       33.51641907, 54.47864009, 51.40238854, 35.52797347, 39.29312139,\n",
       "       29.53739857, 44.37182342, 42.91418115, 35.29644079, 27.7190837 ,\n",
       "       46.33894877, 34.86163836, 45.08502406, 31.91135967, 40.92784659,\n",
       "       31.99983964, 29.98009352, 30.21329488, 51.73671524, 29.58309685,\n",
       "       41.61324914, 44.45177915, 37.296695  , 31.65048227, 34.35973002,\n",
       "       30.07694398, 54.63196956, 37.98692131, 37.98908495, 31.76005331,\n",
       "       37.55388377, 38.97347735, 31.42486917, 42.56493698, 41.43079626,\n",
       "       33.15050804, 40.44528638, 46.12542739, 38.50092718, 33.39137771,\n",
       "       43.98253326, 32.31888422, 30.10797586, 28.14294854, 39.94947636,\n",
       "       27.6241071 , 30.70328037, 39.77747069, 35.0078315 , 46.37289635,\n",
       "       34.89507137, 27.25599793, 36.68840381, 31.25077337, 42.74165872,\n",
       "       38.5346006 , 31.06058459, 37.3994883 , 39.65333913, 40.42592784,\n",
       "       37.76295872, 31.25868292, 29.67651324, 41.39704845, 31.83483355,\n",
       "       46.11172135, 51.98803462, 31.91603685, 39.75566939, 35.2046311 ,\n",
       "       32.81484575, 42.3033783 , 33.23867415, 28.81945307, 35.61794053,\n",
       "       37.73232792, 44.26931106, 29.11297424, 31.34552476, 34.76871705,\n",
       "       29.84847731, 45.48486785, 49.14953253, 29.18568766, 27.17502848,\n",
       "       31.7687836 , 37.19493868, 30.8711929 , 30.46730635, 38.96428101,\n",
       "       39.95693842, 45.58920911, 36.65763599, 36.97227399, 34.77499087,\n",
       "       40.00437055, 49.39748271, 29.45475868, 36.24558906, 39.09766541,\n",
       "       47.00993432, 49.414381  , 48.05759612, 36.34828966, 35.52408523,\n",
       "       43.85823515, 33.83907613, 37.77767196, 34.14951855, 33.23365861,\n",
       "       32.73404755, 44.83961798, 26.92966242, 40.68010476, 30.1449659 ,\n",
       "       31.18100704, 45.06449483, 40.68563292, 38.75567604, 34.15374432,\n",
       "       31.64866957, 40.54239769, 31.97732017, 50.69845659, 45.55267322,\n",
       "       35.00374296, 52.15534246, 31.46491858, 31.99372238, 28.65817731,\n",
       "       27.81564983, 29.76229451, 42.86944832, 36.1582739 , 49.13527636,\n",
       "       35.6133162 , 39.87921146, 51.53746548, 35.81900442, 51.03434174,\n",
       "       30.70713569, 33.0628338 , 41.67654145, 32.30880288, 44.8660703 ,\n",
       "       28.53113651, 37.86189372, 31.94940132, 33.96368743, 29.71310895,\n",
       "       49.14663276, 33.45998092, 51.58261982, 37.7503669 , 37.84373079,\n",
       "       34.76743376, 54.86807352, 37.31421822, 31.59750852, 41.71781731,\n",
       "       37.55798095, 38.54115533, 40.53025522, 37.75727208, 41.83779554,\n",
       "       32.93459717, 37.30223496, 45.72888156, 46.34301031, 36.85731409,\n",
       "       44.84626251, 37.54733832, 35.09014701, 41.62072126, 37.66868636,\n",
       "       40.54459584, 37.65186624, 37.00843683, 34.57456413, 29.92236998,\n",
       "       38.8448087 , 32.31352114, 42.16297274, 39.8655158 , 28.8973992 ,\n",
       "       32.02731038, 29.45195591, 30.50704241, 44.87024592, 36.47383742,\n",
       "       31.3894858 , 36.85122181, 35.80361287, 41.22536788, 51.87750418,\n",
       "       36.6830715 , 39.39018733, 36.22117995, 39.20837062, 35.89082631,\n",
       "       34.83788318, 36.20733581, 40.23517709, 38.10079352, 36.48453494,\n",
       "       30.7921914 , 32.89998224, 42.26917886, 48.7311163 , 39.77233996,\n",
       "       28.90802427, 44.73103266, 35.51538828, 51.99635497, 51.31212192,\n",
       "       43.04064626, 32.73305057, 28.26243797, 27.99567013, 52.13784783,\n",
       "       30.68740178, 31.16465652, 34.0756086 , 41.37961903, 40.91198993,\n",
       "       41.0826939 , 48.03370493, 49.14076891, 30.84968271, 28.1527218 ,\n",
       "       29.91927591, 27.46240297, 44.74403708, 31.51045603, 30.78287962,\n",
       "       30.02947991, 36.66345642, 36.73983718, 40.5238246 , 32.15624547,\n",
       "       52.01256813, 29.59247669, 33.76323887, 33.54657374, 32.74952925,\n",
       "       36.4722499 , 48.7144537 , 36.57900584, 34.85914559, 29.12322776,\n",
       "       49.50938618, 44.92008752, 29.90581129, 26.90190638, 30.68564424,\n",
       "       31.74772284, 29.11158413, 48.84828466, 43.97144961, 49.38980827,\n",
       "       32.64838227, 34.24169043, 35.27259216, 36.56258727, 27.99214075,\n",
       "       37.41768159, 28.97621671, 32.42747442, 41.95816585, 27.74605816,\n",
       "       45.07273638, 47.79153187, 31.01553356, 50.70336895, 37.9494314 ,\n",
       "       48.46130522, 36.11875834, 44.26974647, 54.30993485, 36.786336  ,\n",
       "       33.31033903, 31.46431607, 34.6615682 , 34.47386948, 51.41071249,\n",
       "       43.16942042, 29.43870159, 34.90098777, 36.76200626, 33.30641006,\n",
       "       27.10694931, 39.65869232, 36.75253008, 38.86346275, 31.43557419,\n",
       "       32.72414083, 31.81785616, 27.54420838, 46.01342182, 41.96422444,\n",
       "       36.14419515, 30.71052092, 30.45740442, 51.30295718, 31.09113274,\n",
       "       41.95192114, 31.8684321 , 51.39323406, 27.69720164, 44.27455192,\n",
       "       46.51393117, 36.050027  , 46.79284003, 37.20667943, 37.2114887 ,\n",
       "       33.05440765, 32.1610265 , 40.80056399, 32.39272468, 33.76001684,\n",
       "       43.04021848, 33.16224584, 32.32442335, 37.40499807, 34.99566574,\n",
       "       39.21032643, 28.444446  , 31.66371803, 39.22183544, 34.17072946,\n",
       "       33.6563558 , 29.91763176, 32.23521046, 51.03734102, 30.10513677,\n",
       "       36.57353662])"
      ]
     },
     "execution_count": 99,
     "metadata": {},
     "output_type": "execute_result"
    }
   ],
   "source": [
    "y_test"
   ]
  },
  {
   "cell_type": "code",
   "execution_count": 100,
   "metadata": {},
   "outputs": [
    {
     "data": {
      "text/plain": [
       "array([ 0.00000000e+00,  1.29645686e+00,  2.44645077e-03, -5.30198600e+03,\n",
       "       -5.62387217e-02,  5.69571846e-03,  1.01270151e-05, -6.98202003e+01,\n",
       "       -2.40376702e-04,  6.92070898e-08, -3.50106427e-02, -5.79787684e-06,\n",
       "        1.89327211e+05,  2.29597734e-01,  1.00898003e-04])"
      ]
     },
     "execution_count": 100,
     "metadata": {},
     "output_type": "execute_result"
    }
   ],
   "source": [
    "clf.coef_"
   ]
  },
  {
   "cell_type": "code",
   "execution_count": 119,
   "metadata": {},
   "outputs": [
    {
     "data": {
      "text/plain": [
       "<matplotlib.collections.PathCollection at 0x24e0d0d1eb8>"
      ]
     },
     "execution_count": 119,
     "metadata": {},
     "output_type": "execute_result"
    },
    {
     "data": {
      "image/png": "[encoded data removed]",
      "text/plain": [
       "<matplotlib.figure.Figure at 0x24e0a536978>"
      ]
     },
     "metadata": {},
     "output_type": "display_data"
    }
   ],
   "source": [
    "plt.scatter(x_test[:,14],y_test)"
   ]
  },
  {
   "cell_type": "code",
   "execution_count": 130,
   "metadata": {},
   "outputs": [
    {
     "data": {
      "text/plain": [
       "[<matplotlib.lines.Line2D at 0x24e0ebb9198>]"
      ]
     },
     "execution_count": 130,
     "metadata": {},
     "output_type": "execute_result"
    },
    {
     "data": {
      "image/png": "[encoded data removed]",
      "text/plain": [
       "<matplotlib.figure.Figure at 0x24e0eb51cf8>"
      ]
     },
     "metadata": {},
     "output_type": "display_data"
    }
   ],
   "source": [
    "plt.plot(y_test,color='red')"
   ]
  },
  {
   "cell_type": "code",
   "execution_count": null,
   "metadata": {
    "collapsed": true
   },
   "outputs": [],
   "source": []
  }
 ],
 "metadata": {
  "kernelspec": {
   "display_name": "Python 3",
   "language": "python",
   "name": "python3"
  },
  "language_info": {
   "codemirror_mode": {
    "name": "ipython",
    "version": 3
   },
   "file_extension": ".py",
   "mimetype": "text/x-python",
   "name": "python",
   "nbconvert_exporter": "python",
   "pygments_lexer": "ipython3",
   "version": "3.6.3"
  }
 },
 "nbformat": 4,
 "nbformat_minor": 2
}
